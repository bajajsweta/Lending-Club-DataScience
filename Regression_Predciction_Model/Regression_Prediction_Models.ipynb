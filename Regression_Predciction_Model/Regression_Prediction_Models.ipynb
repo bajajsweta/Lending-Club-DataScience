{
 "cells": [
  {
   "cell_type": "code",
   "execution_count": 1,
   "metadata": {
    "collapsed": false
   },
   "outputs": [
    {
     "name": "stderr",
     "output_type": "stream",
     "text": [
      "/Users/vikasshah/anaconda/lib/python3.5/site-packages/sklearn/cross_validation.py:44: DeprecationWarning: This module was deprecated in version 0.18 in favor of the model_selection module into which all the refactored classes and functions are moved. Also note that the interface of the new CV iterators are different from that of this module. This module will be removed in 0.20.\n",
      "  \"This module will be removed in 0.20.\", DeprecationWarning)\n",
      "/Users/vikasshah/anaconda/lib/python3.5/site-packages/sklearn/grid_search.py:43: DeprecationWarning: This module was deprecated in version 0.18 in favor of the model_selection module into which all the refactored classes and functions are moved. This module will be removed in 0.20.\n",
      "  DeprecationWarning)\n",
      "/Users/vikasshah/anaconda/lib/python3.5/site-packages/sklearn/lda.py:6: DeprecationWarning: lda.LDA has been moved to discriminant_analysis.LinearDiscriminantAnalysis in 0.17 and will be removed in 0.19\n",
      "  \"in 0.17 and will be removed in 0.19\", DeprecationWarning)\n",
      "/Users/vikasshah/anaconda/lib/python3.5/site-packages/sklearn/learning_curve.py:23: DeprecationWarning: This module was deprecated in version 0.18 in favor of the model_selection module into which all the functions are moved. This module will be removed in 0.20\n",
      "  DeprecationWarning)\n",
      "/Users/vikasshah/anaconda/lib/python3.5/site-packages/sklearn/qda.py:6: DeprecationWarning: qda.QDA has been moved to discriminant_analysis.QuadraticDiscriminantAnalysis in 0.17 and will be removed in 0.19.\n",
      "  \"in 0.17 and will be removed in 0.19.\", DeprecationWarning)\n"
     ]
    }
   ],
   "source": [
    "import pandas as pd\n",
    "import numpy as np\n",
    "import os\n",
    "import requests\n",
    "import zipfile\n",
    "import io\n",
    "import glob\n",
    "import re\n",
    "from datetime import datetime\n",
    "import statsmodels.api as sm\n",
    "from statsmodels.formula.api import ols\n",
    "from sklearn.preprocessing import LabelEncoder\n",
    "from sklearn.linear_model import LinearRegression\n",
    "from sklearn.ensemble import RandomForestRegressor\n",
    "from sklearn.neighbors import KNeighborsRegressor\n",
    "from sklearn import datasets, linear_model\n",
    "\n",
    "import sklearn\n",
    "from sklearn import *\n",
    "from sklearn.cross_validation import train_test_split\n",
    "from sklearn.metrics import *"
   ]
  },
  {
   "cell_type": "code",
   "execution_count": 3,
   "metadata": {
    "collapsed": false
   },
   "outputs": [
    {
     "name": "stderr",
     "output_type": "stream",
     "text": [
      "/Users/vikasshah/anaconda/lib/python3.5/site-packages/IPython/core/interactiveshell.py:2717: DtypeWarning: Columns (0,19,49,59) have mixed types. Specify dtype option on import or set low_memory=False.\n",
      "  interactivity=interactivity, compiler=compiler, result=result)\n"
     ]
    }
   ],
   "source": [
    "data_frame = pd.read_csv('CombinedData.csv')\n"
   ]
  },
  {
   "cell_type": "code",
   "execution_count": 4,
   "metadata": {
    "collapsed": true
   },
   "outputs": [],
   "source": [
    "df = data_frame\n",
    "df= df.dropna(thresh=int(len(df.columns)/2))"
   ]
  },
  {
   "cell_type": "code",
   "execution_count": 5,
   "metadata": {
    "collapsed": false
   },
   "outputs": [
    {
     "data": {
      "text/html": [
       "<div>\n",
       "<table border=\"1\" class=\"dataframe\">\n",
       "  <thead>\n",
       "    <tr style=\"text-align: right;\">\n",
       "      <th></th>\n",
       "      <th>id</th>\n",
       "      <th>member_id</th>\n",
       "      <th>loan_amnt</th>\n",
       "      <th>funded_amnt</th>\n",
       "      <th>funded_amnt_inv</th>\n",
       "      <th>term</th>\n",
       "      <th>int_rate</th>\n",
       "      <th>installment</th>\n",
       "      <th>grade</th>\n",
       "      <th>sub_grade</th>\n",
       "    </tr>\n",
       "  </thead>\n",
       "  <tbody>\n",
       "    <tr>\n",
       "      <th>0</th>\n",
       "      <td>10119623</td>\n",
       "      <td>NaN</td>\n",
       "      <td>12000.0</td>\n",
       "      <td>12000.0</td>\n",
       "      <td>12000.0</td>\n",
       "      <td>36 months</td>\n",
       "      <td>11.99%</td>\n",
       "      <td>398.52</td>\n",
       "      <td>B</td>\n",
       "      <td>B3</td>\n",
       "    </tr>\n",
       "    <tr>\n",
       "      <th>1</th>\n",
       "      <td>10224583</td>\n",
       "      <td>NaN</td>\n",
       "      <td>11100.0</td>\n",
       "      <td>11100.0</td>\n",
       "      <td>11100.0</td>\n",
       "      <td>36 months</td>\n",
       "      <td>14.98%</td>\n",
       "      <td>384.68</td>\n",
       "      <td>C</td>\n",
       "      <td>C3</td>\n",
       "    </tr>\n",
       "  </tbody>\n",
       "</table>\n",
       "</div>"
      ],
      "text/plain": [
       "         id  member_id  loan_amnt  funded_amnt  funded_amnt_inv        term  \\\n",
       "0  10119623        NaN    12000.0      12000.0          12000.0   36 months   \n",
       "1  10224583        NaN    11100.0      11100.0          11100.0   36 months   \n",
       "\n",
       "  int_rate  installment grade sub_grade  \n",
       "0   11.99%       398.52     B        B3  \n",
       "1   14.98%       384.68     C        C3  "
      ]
     },
     "execution_count": 5,
     "metadata": {},
     "output_type": "execute_result"
    }
   ],
   "source": [
    "df.ix[:1,0:10].head(2)"
   ]
  },
  {
   "cell_type": "code",
   "execution_count": 6,
   "metadata": {
    "collapsed": false
   },
   "outputs": [
    {
     "name": "stderr",
     "output_type": "stream",
     "text": [
      "/Users/vikasshah/anaconda/lib/python3.5/site-packages/ipykernel/__main__.py:3: SettingWithCopyWarning: \n",
      "A value is trying to be set on a copy of a slice from a DataFrame.\n",
      "Try using .loc[row_indexer,col_indexer] = value instead\n",
      "\n",
      "See the caveats in the documentation: http://pandas.pydata.org/pandas-docs/stable/indexing.html#indexing-view-versus-copy\n",
      "  app.launch_new_instance()\n",
      "/Users/vikasshah/anaconda/lib/python3.5/site-packages/ipykernel/__main__.py:4: SettingWithCopyWarning: \n",
      "A value is trying to be set on a copy of a slice from a DataFrame.\n",
      "Try using .loc[row_indexer,col_indexer] = value instead\n",
      "\n",
      "See the caveats in the documentation: http://pandas.pydata.org/pandas-docs/stable/indexing.html#indexing-view-versus-copy\n",
      "/Users/vikasshah/anaconda/lib/python3.5/site-packages/ipykernel/__main__.py:5: SettingWithCopyWarning: \n",
      "A value is trying to be set on a copy of a slice from a DataFrame.\n",
      "Try using .loc[row_indexer,col_indexer] = value instead\n",
      "\n",
      "See the caveats in the documentation: http://pandas.pydata.org/pandas-docs/stable/indexing.html#indexing-view-versus-copy\n",
      "/Users/vikasshah/anaconda/lib/python3.5/site-packages/ipykernel/__main__.py:7: SettingWithCopyWarning: \n",
      "A value is trying to be set on a copy of a slice from a DataFrame.\n",
      "Try using .loc[row_indexer,col_indexer] = value instead\n",
      "\n",
      "See the caveats in the documentation: http://pandas.pydata.org/pandas-docs/stable/indexing.html#indexing-view-versus-copy\n",
      "/Users/vikasshah/anaconda/lib/python3.5/site-packages/ipykernel/__main__.py:8: SettingWithCopyWarning: \n",
      "A value is trying to be set on a copy of a slice from a DataFrame.\n",
      "Try using .loc[row_indexer,col_indexer] = value instead\n",
      "\n",
      "See the caveats in the documentation: http://pandas.pydata.org/pandas-docs/stable/indexing.html#indexing-view-versus-copy\n",
      "/Users/vikasshah/anaconda/lib/python3.5/site-packages/ipykernel/__main__.py:11: SettingWithCopyWarning: \n",
      "A value is trying to be set on a copy of a slice from a DataFrame.\n",
      "Try using .loc[row_indexer,col_indexer] = value instead\n",
      "\n",
      "See the caveats in the documentation: http://pandas.pydata.org/pandas-docs/stable/indexing.html#indexing-view-versus-copy\n",
      "/Users/vikasshah/anaconda/lib/python3.5/site-packages/ipykernel/__main__.py:12: SettingWithCopyWarning: \n",
      "A value is trying to be set on a copy of a slice from a DataFrame.\n",
      "Try using .loc[row_indexer,col_indexer] = value instead\n",
      "\n",
      "See the caveats in the documentation: http://pandas.pydata.org/pandas-docs/stable/indexing.html#indexing-view-versus-copy\n",
      "/Users/vikasshah/anaconda/lib/python3.5/site-packages/ipykernel/__main__.py:13: SettingWithCopyWarning: \n",
      "A value is trying to be set on a copy of a slice from a DataFrame.\n",
      "Try using .loc[row_indexer,col_indexer] = value instead\n",
      "\n",
      "See the caveats in the documentation: http://pandas.pydata.org/pandas-docs/stable/indexing.html#indexing-view-versus-copy\n",
      "/Users/vikasshah/anaconda/lib/python3.5/site-packages/ipykernel/__main__.py:15: SettingWithCopyWarning: \n",
      "A value is trying to be set on a copy of a slice from a DataFrame.\n",
      "Try using .loc[row_indexer,col_indexer] = value instead\n",
      "\n",
      "See the caveats in the documentation: http://pandas.pydata.org/pandas-docs/stable/indexing.html#indexing-view-versus-copy\n"
     ]
    }
   ],
   "source": [
    "## remove months from column term and it has only 3 null values, replace it with ffill method.\n",
    "\n",
    "df['term']=df['term'].str.split(' ',2).str[1]\n",
    "df['term'] = df['term'].fillna(method='ffill')\n",
    "df['term'] = df['term'].astype(int)\n",
    "## remove % from column int_rate column and it has only 3 null values, replace it with ffill method.\n",
    "df['int_rate'] = df['int_rate'].str.split('%',1).str[0]\n",
    "df['int_rate'] =df['int_rate'].astype(float)\n",
    "\n",
    "## \n",
    "df['loan_amnt'] = df['loan_amnt'].astype(int)\n",
    "df['funded_amnt'] = df['funded_amnt'].astype(int)\n",
    "df['installment'] = df['installment'].astype(int)\n",
    "\n",
    "df['num_tl_op_past_12m']= df['num_tl_op_past_12m'].fillna(0).astype(int)\n",
    "\n",
    "## grade and sub-grade has no null values."
   ]
  },
  {
   "cell_type": "code",
   "execution_count": 7,
   "metadata": {
    "collapsed": false
   },
   "outputs": [
    {
     "data": {
      "text/html": [
       "<div>\n",
       "<table border=\"1\" class=\"dataframe\">\n",
       "  <thead>\n",
       "    <tr style=\"text-align: right;\">\n",
       "      <th></th>\n",
       "      <th>emp_title</th>\n",
       "      <th>emp_length</th>\n",
       "      <th>home_ownership</th>\n",
       "      <th>annual_inc</th>\n",
       "      <th>verification_status</th>\n",
       "      <th>issue_d</th>\n",
       "      <th>loan_status</th>\n",
       "      <th>pymnt_plan</th>\n",
       "      <th>url</th>\n",
       "      <th>desc</th>\n",
       "    </tr>\n",
       "  </thead>\n",
       "  <tbody>\n",
       "    <tr>\n",
       "      <th>0</th>\n",
       "      <td>LTC</td>\n",
       "      <td>10+ years</td>\n",
       "      <td>MORTGAGE</td>\n",
       "      <td>130000.0</td>\n",
       "      <td>Source Verified</td>\n",
       "      <td>Dec-2013</td>\n",
       "      <td>Fully Paid</td>\n",
       "      <td>n</td>\n",
       "      <td>https://lendingclub.com/browse/loanDetail.acti...</td>\n",
       "      <td>NaN</td>\n",
       "    </tr>\n",
       "    <tr>\n",
       "      <th>1</th>\n",
       "      <td>Teacher</td>\n",
       "      <td>10+ years</td>\n",
       "      <td>MORTGAGE</td>\n",
       "      <td>90000.0</td>\n",
       "      <td>Not Verified</td>\n",
       "      <td>Dec-2013</td>\n",
       "      <td>Fully Paid</td>\n",
       "      <td>n</td>\n",
       "      <td>https://lendingclub.com/browse/loanDetail.acti...</td>\n",
       "      <td>NaN</td>\n",
       "    </tr>\n",
       "  </tbody>\n",
       "</table>\n",
       "</div>"
      ],
      "text/plain": [
       "  emp_title emp_length home_ownership  annual_inc verification_status  \\\n",
       "0       LTC  10+ years       MORTGAGE    130000.0     Source Verified   \n",
       "1   Teacher  10+ years       MORTGAGE     90000.0        Not Verified   \n",
       "\n",
       "    issue_d loan_status pymnt_plan  \\\n",
       "0  Dec-2013  Fully Paid          n   \n",
       "1  Dec-2013  Fully Paid          n   \n",
       "\n",
       "                                                 url desc  \n",
       "0  https://lendingclub.com/browse/loanDetail.acti...  NaN  \n",
       "1  https://lendingclub.com/browse/loanDetail.acti...  NaN  "
      ]
     },
     "execution_count": 7,
     "metadata": {},
     "output_type": "execute_result"
    }
   ],
   "source": [
    "df.ix[:1,10:20].head(2)"
   ]
  },
  {
   "cell_type": "code",
   "execution_count": 8,
   "metadata": {
    "collapsed": false
   },
   "outputs": [
    {
     "name": "stderr",
     "output_type": "stream",
     "text": [
      "/Users/vikasshah/anaconda/lib/python3.5/site-packages/ipykernel/__main__.py:2: SettingWithCopyWarning: \n",
      "A value is trying to be set on a copy of a slice from a DataFrame.\n",
      "Try using .loc[row_indexer,col_indexer] = value instead\n",
      "\n",
      "See the caveats in the documentation: http://pandas.pydata.org/pandas-docs/stable/indexing.html#indexing-view-versus-copy\n",
      "  from ipykernel import kernelapp as app\n",
      "/Users/vikasshah/anaconda/lib/python3.5/site-packages/ipykernel/__main__.py:3: SettingWithCopyWarning: \n",
      "A value is trying to be set on a copy of a slice from a DataFrame.\n",
      "Try using .loc[row_indexer,col_indexer] = value instead\n",
      "\n",
      "See the caveats in the documentation: http://pandas.pydata.org/pandas-docs/stable/indexing.html#indexing-view-versus-copy\n",
      "  app.launch_new_instance()\n",
      "/Users/vikasshah/anaconda/lib/python3.5/site-packages/ipykernel/__main__.py:4: SettingWithCopyWarning: \n",
      "A value is trying to be set on a copy of a slice from a DataFrame.\n",
      "Try using .loc[row_indexer,col_indexer] = value instead\n",
      "\n",
      "See the caveats in the documentation: http://pandas.pydata.org/pandas-docs/stable/indexing.html#indexing-view-versus-copy\n",
      "/Users/vikasshah/anaconda/lib/python3.5/site-packages/ipykernel/__main__.py:5: SettingWithCopyWarning: \n",
      "A value is trying to be set on a copy of a slice from a DataFrame.\n",
      "Try using .loc[row_indexer,col_indexer] = value instead\n",
      "\n",
      "See the caveats in the documentation: http://pandas.pydata.org/pandas-docs/stable/indexing.html#indexing-view-versus-copy\n",
      "/Users/vikasshah/anaconda/lib/python3.5/site-packages/ipykernel/__main__.py:6: SettingWithCopyWarning: \n",
      "A value is trying to be set on a copy of a slice from a DataFrame.\n",
      "Try using .loc[row_indexer,col_indexer] = value instead\n",
      "\n",
      "See the caveats in the documentation: http://pandas.pydata.org/pandas-docs/stable/indexing.html#indexing-view-versus-copy\n",
      "/Users/vikasshah/anaconda/lib/python3.5/site-packages/ipykernel/__main__.py:7: SettingWithCopyWarning: \n",
      "A value is trying to be set on a copy of a slice from a DataFrame.\n",
      "Try using .loc[row_indexer,col_indexer] = value instead\n",
      "\n",
      "See the caveats in the documentation: http://pandas.pydata.org/pandas-docs/stable/indexing.html#indexing-view-versus-copy\n",
      "/Users/vikasshah/anaconda/lib/python3.5/site-packages/pandas/core/generic.py:3295: SettingWithCopyWarning: \n",
      "A value is trying to be set on a copy of a slice from a DataFrame\n",
      "\n",
      "See the caveats in the documentation: http://pandas.pydata.org/pandas-docs/stable/indexing.html#indexing-view-versus-copy\n",
      "  self._update_inplace(new_data)\n"
     ]
    },
    {
     "data": {
      "text/plain": [
       "0          10\n",
       "1          10\n",
       "2           1\n",
       "3          10\n",
       "4           2\n",
       "5           4\n",
       "6          10\n",
       "7          10\n",
       "8           7\n",
       "9          10\n",
       "10          5\n",
       "11          6\n",
       "12         10\n",
       "13          3\n",
       "14          2\n",
       "15         10\n",
       "16          4\n",
       "17          2\n",
       "18         10\n",
       "19          4\n",
       "20         10\n",
       "21          3\n",
       "22          2\n",
       "23         10\n",
       "24          8\n",
       "25          1\n",
       "26          2\n",
       "27         10\n",
       "28         10\n",
       "29         10\n",
       "           ..\n",
       "1319008     5\n",
       "1319009     3\n",
       "1319010     1\n",
       "1319011     1\n",
       "1319012     9\n",
       "1319013    10\n",
       "1319014     1\n",
       "1319015     3\n",
       "1319017     6\n",
       "1319018     1\n",
       "1319019     9\n",
       "1319020     1\n",
       "1319021     2\n",
       "1319022     2\n",
       "1319023    10\n",
       "1319025     5\n",
       "1319026     1\n",
       "1319027     1\n",
       "1319028     1\n",
       "1319029     1\n",
       "1319030     1\n",
       "1319031     1\n",
       "1319032     5\n",
       "1319035     9\n",
       "1319036    10\n",
       "1319037     1\n",
       "1319038     1\n",
       "1319039     1\n",
       "1319040     2\n",
       "1319054     2\n",
       "Name: emp_length_clean, dtype: int64"
      ]
     },
     "execution_count": 8,
     "metadata": {},
     "output_type": "execute_result"
    }
   ],
   "source": [
    "## remove years and other character from emp_length to make it numerical \n",
    "df['emp_length_clean'] = df.emp_length.str.replace('+','')\n",
    "df['emp_length_clean'] = df.emp_length_clean.str.replace('<','')\n",
    "df['emp_length_clean'] = df.emp_length_clean.str.replace('years','')\n",
    "df['emp_length_clean'] = df.emp_length_clean.str.replace('year','')\n",
    "df['emp_length_clean'] = df.emp_length_clean.str.replace('n/a','0')\n",
    "df['emp_length_clean']=pd.to_numeric(df['emp_length_clean'], errors='ignore')\n",
    "df['emp_length_clean'].fillna(0,inplace=True)\n",
    "df['emp_length_clean'].astype(int)\n"
   ]
  },
  {
   "cell_type": "code",
   "execution_count": 9,
   "metadata": {
    "collapsed": false
   },
   "outputs": [
    {
     "data": {
      "text/html": [
       "<div>\n",
       "<table border=\"1\" class=\"dataframe\">\n",
       "  <thead>\n",
       "    <tr style=\"text-align: right;\">\n",
       "      <th></th>\n",
       "      <th>purpose</th>\n",
       "      <th>title</th>\n",
       "      <th>zip_code</th>\n",
       "      <th>addr_state</th>\n",
       "      <th>dti</th>\n",
       "      <th>delinq_2yrs</th>\n",
       "      <th>earliest_cr_line</th>\n",
       "      <th>fico_range_low</th>\n",
       "      <th>fico_range_high</th>\n",
       "      <th>inq_last_6mths</th>\n",
       "    </tr>\n",
       "  </thead>\n",
       "  <tbody>\n",
       "    <tr>\n",
       "      <th>0</th>\n",
       "      <td>debt_consolidation</td>\n",
       "      <td>Debt consolidation</td>\n",
       "      <td>809xx</td>\n",
       "      <td>CO</td>\n",
       "      <td>13.03</td>\n",
       "      <td>0.0</td>\n",
       "      <td>Nov-1997</td>\n",
       "      <td>715.0</td>\n",
       "      <td>719.0</td>\n",
       "      <td>1.0</td>\n",
       "    </tr>\n",
       "    <tr>\n",
       "      <th>1</th>\n",
       "      <td>other</td>\n",
       "      <td>Other</td>\n",
       "      <td>103xx</td>\n",
       "      <td>NY</td>\n",
       "      <td>3.73</td>\n",
       "      <td>1.0</td>\n",
       "      <td>Jun-2001</td>\n",
       "      <td>690.0</td>\n",
       "      <td>694.0</td>\n",
       "      <td>0.0</td>\n",
       "    </tr>\n",
       "  </tbody>\n",
       "</table>\n",
       "</div>"
      ],
      "text/plain": [
       "              purpose               title zip_code addr_state    dti  \\\n",
       "0  debt_consolidation  Debt consolidation    809xx         CO  13.03   \n",
       "1               other               Other    103xx         NY   3.73   \n",
       "\n",
       "   delinq_2yrs earliest_cr_line  fico_range_low  fico_range_high  \\\n",
       "0          0.0         Nov-1997           715.0            719.0   \n",
       "1          1.0         Jun-2001           690.0            694.0   \n",
       "\n",
       "   inq_last_6mths  \n",
       "0             1.0  \n",
       "1             0.0  "
      ]
     },
     "execution_count": 9,
     "metadata": {},
     "output_type": "execute_result"
    }
   ],
   "source": [
    "df.ix[:1,20:30].head(2)"
   ]
  },
  {
   "cell_type": "code",
   "execution_count": 10,
   "metadata": {
    "collapsed": false
   },
   "outputs": [
    {
     "name": "stderr",
     "output_type": "stream",
     "text": [
      "/Users/vikasshah/anaconda/lib/python3.5/site-packages/pandas/core/generic.py:2773: SettingWithCopyWarning: \n",
      "A value is trying to be set on a copy of a slice from a DataFrame.\n",
      "Try using .loc[row_indexer,col_indexer] = value instead\n",
      "\n",
      "See the caveats in the documentation: http://pandas.pydata.org/pandas-docs/stable/indexing.html#indexing-view-versus-copy\n",
      "  self[name] = value\n"
     ]
    }
   ],
   "source": [
    "## dti, delinq_2yrs, fico_range_low, fico_range_high, earliest_cr_line has zero null values..\n",
    "df.dti = df.dti.astype(int)\n",
    "df.delinq_2yrs = df.delinq_2yrs.astype(int)\n",
    "df.fico_range_low = df.fico_range_low.astype(int)\n",
    "df.fico_range_high= df.fico_range_high.astype(int)\n",
    "df.inq_last_6mths= df.inq_last_6mths.fillna(0)\n",
    "df.inq_last_6mths = df.inq_last_6mths.astype(int)\n",
    "df.earliest_cr_line = df.earliest_cr_line.fillna(method='ffill')"
   ]
  },
  {
   "cell_type": "code",
   "execution_count": 11,
   "metadata": {
    "collapsed": false
   },
   "outputs": [
    {
     "data": {
      "text/html": [
       "<div>\n",
       "<table border=\"1\" class=\"dataframe\">\n",
       "  <thead>\n",
       "    <tr style=\"text-align: right;\">\n",
       "      <th></th>\n",
       "      <th>mths_since_last_delinq</th>\n",
       "      <th>mths_since_last_record</th>\n",
       "      <th>open_acc</th>\n",
       "      <th>pub_rec</th>\n",
       "      <th>revol_bal</th>\n",
       "      <th>revol_util</th>\n",
       "      <th>total_acc</th>\n",
       "      <th>initial_list_status</th>\n",
       "      <th>out_prncp</th>\n",
       "      <th>out_prncp_inv</th>\n",
       "    </tr>\n",
       "  </thead>\n",
       "  <tbody>\n",
       "    <tr>\n",
       "      <th>0</th>\n",
       "      <td>NaN</td>\n",
       "      <td>NaN</td>\n",
       "      <td>9.0</td>\n",
       "      <td>0.0</td>\n",
       "      <td>10805.0</td>\n",
       "      <td>67%</td>\n",
       "      <td>19.0</td>\n",
       "      <td>f</td>\n",
       "      <td>0.0</td>\n",
       "      <td>0.0</td>\n",
       "    </tr>\n",
       "    <tr>\n",
       "      <th>1</th>\n",
       "      <td>16.0</td>\n",
       "      <td>NaN</td>\n",
       "      <td>9.0</td>\n",
       "      <td>0.0</td>\n",
       "      <td>6619.0</td>\n",
       "      <td>66.2%</td>\n",
       "      <td>12.0</td>\n",
       "      <td>f</td>\n",
       "      <td>0.0</td>\n",
       "      <td>0.0</td>\n",
       "    </tr>\n",
       "  </tbody>\n",
       "</table>\n",
       "</div>"
      ],
      "text/plain": [
       "   mths_since_last_delinq  mths_since_last_record  open_acc  pub_rec  \\\n",
       "0                     NaN                     NaN       9.0      0.0   \n",
       "1                    16.0                     NaN       9.0      0.0   \n",
       "\n",
       "   revol_bal revol_util  total_acc initial_list_status  out_prncp  \\\n",
       "0    10805.0        67%       19.0                   f        0.0   \n",
       "1     6619.0      66.2%       12.0                   f        0.0   \n",
       "\n",
       "   out_prncp_inv  \n",
       "0            0.0  \n",
       "1            0.0  "
      ]
     },
     "execution_count": 11,
     "metadata": {},
     "output_type": "execute_result"
    }
   ],
   "source": [
    "df.ix[:1,30:40].head(2)"
   ]
  },
  {
   "cell_type": "code",
   "execution_count": 12,
   "metadata": {
    "collapsed": false
   },
   "outputs": [
    {
     "name": "stderr",
     "output_type": "stream",
     "text": [
      "/Users/vikasshah/anaconda/lib/python3.5/site-packages/pandas/core/generic.py:2773: SettingWithCopyWarning: \n",
      "A value is trying to be set on a copy of a slice from a DataFrame.\n",
      "Try using .loc[row_indexer,col_indexer] = value instead\n",
      "\n",
      "See the caveats in the documentation: http://pandas.pydata.org/pandas-docs/stable/indexing.html#indexing-view-versus-copy\n",
      "  self[name] = value\n",
      "/Users/vikasshah/anaconda/lib/python3.5/site-packages/ipykernel/__main__.py:18: SettingWithCopyWarning: \n",
      "A value is trying to be set on a copy of a slice from a DataFrame.\n",
      "Try using .loc[row_indexer,col_indexer] = value instead\n",
      "\n",
      "See the caveats in the documentation: http://pandas.pydata.org/pandas-docs/stable/indexing.html#indexing-view-versus-copy\n",
      "/Users/vikasshah/anaconda/lib/python3.5/site-packages/ipykernel/__main__.py:20: SettingWithCopyWarning: \n",
      "A value is trying to be set on a copy of a slice from a DataFrame.\n",
      "Try using .loc[row_indexer,col_indexer] = value instead\n",
      "\n",
      "See the caveats in the documentation: http://pandas.pydata.org/pandas-docs/stable/indexing.html#indexing-view-versus-copy\n"
     ]
    }
   ],
   "source": [
    "## fill na\n",
    "## mths_since_last_delinq has 646467 null values.. (do not think we need this for FE)\n",
    "df.mths_since_last_delinq = df.mths_since_last_delinq.fillna(0).astype(int)\n",
    "\n",
    "## mths_since_last_record has 1088168 null values.. (do not think we need this for FE)\n",
    "df.mths_since_last_record = df.mths_since_last_record.fillna(0).astype(int)\n",
    "\n",
    "##open_acc has 1088168 null values.. (do not think we need this for FE)\n",
    "df.open_acc = df.open_acc.fillna(0).astype(int)\n",
    "\n",
    "## pub_rec, revol_bal,total_acc has no null values\n",
    "df.pub_rec = df.pub_rec.astype(int)\n",
    "df.total_acc = df.total_acc.astype(int)\n",
    "df.revol_bal = df.revol_bal.astype(int)\n",
    "df.out_prncp = df.out_prncp.astype(int)\n",
    "df.out_prncp_inv = df.out_prncp_inv.astype(int)\n",
    "\n",
    "df['revol_util'] = df['revol_util'].str.split('%',1).str[0].astype(float)\n",
    "## mean revol_util \n",
    "df['revol_util']=df['revol_util'].fillna((df.revol_util.mean())).astype(int)\n"
   ]
  },
  {
   "cell_type": "code",
   "execution_count": 13,
   "metadata": {
    "collapsed": false
   },
   "outputs": [
    {
     "data": {
      "text/html": [
       "<div>\n",
       "<table border=\"1\" class=\"dataframe\">\n",
       "  <thead>\n",
       "    <tr style=\"text-align: right;\">\n",
       "      <th></th>\n",
       "      <th>total_pymnt</th>\n",
       "      <th>total_pymnt_inv</th>\n",
       "      <th>total_rec_prncp</th>\n",
       "      <th>total_rec_int</th>\n",
       "      <th>total_rec_late_fee</th>\n",
       "      <th>recoveries</th>\n",
       "      <th>collection_recovery_fee</th>\n",
       "      <th>last_pymnt_d</th>\n",
       "      <th>last_pymnt_amnt</th>\n",
       "      <th>next_pymnt_d</th>\n",
       "    </tr>\n",
       "  </thead>\n",
       "  <tbody>\n",
       "    <tr>\n",
       "      <th>0</th>\n",
       "      <td>14346.479050</td>\n",
       "      <td>14346.48</td>\n",
       "      <td>12000.0</td>\n",
       "      <td>2346.48</td>\n",
       "      <td>0.0</td>\n",
       "      <td>0.0</td>\n",
       "      <td>0.0</td>\n",
       "      <td>Jan-2017</td>\n",
       "      <td>398.28</td>\n",
       "      <td>NaN</td>\n",
       "    </tr>\n",
       "    <tr>\n",
       "      <th>1</th>\n",
       "      <td>13575.640006</td>\n",
       "      <td>13575.64</td>\n",
       "      <td>11100.0</td>\n",
       "      <td>2475.64</td>\n",
       "      <td>0.0</td>\n",
       "      <td>0.0</td>\n",
       "      <td>0.0</td>\n",
       "      <td>Feb-2016</td>\n",
       "      <td>4343.32</td>\n",
       "      <td>NaN</td>\n",
       "    </tr>\n",
       "  </tbody>\n",
       "</table>\n",
       "</div>"
      ],
      "text/plain": [
       "    total_pymnt  total_pymnt_inv  total_rec_prncp  total_rec_int  \\\n",
       "0  14346.479050         14346.48          12000.0        2346.48   \n",
       "1  13575.640006         13575.64          11100.0        2475.64   \n",
       "\n",
       "   total_rec_late_fee  recoveries  collection_recovery_fee last_pymnt_d  \\\n",
       "0                 0.0         0.0                      0.0     Jan-2017   \n",
       "1                 0.0         0.0                      0.0     Feb-2016   \n",
       "\n",
       "   last_pymnt_amnt next_pymnt_d  \n",
       "0           398.28          NaN  \n",
       "1          4343.32          NaN  "
      ]
     },
     "execution_count": 13,
     "metadata": {},
     "output_type": "execute_result"
    }
   ],
   "source": [
    "df.ix[:1,40:50].head(2)"
   ]
  },
  {
   "cell_type": "code",
   "execution_count": 14,
   "metadata": {
    "collapsed": false
   },
   "outputs": [
    {
     "name": "stderr",
     "output_type": "stream",
     "text": [
      "/Users/vikasshah/anaconda/lib/python3.5/site-packages/pandas/core/generic.py:2773: SettingWithCopyWarning: \n",
      "A value is trying to be set on a copy of a slice from a DataFrame.\n",
      "Try using .loc[row_indexer,col_indexer] = value instead\n",
      "\n",
      "See the caveats in the documentation: http://pandas.pydata.org/pandas-docs/stable/indexing.html#indexing-view-versus-copy\n",
      "  self[name] = value\n"
     ]
    }
   ],
   "source": [
    "## total_pymnt,total_pymnt_inv\n",
    "df.total_pymnt = df.total_pymnt.fillna(0).astype(float)\n",
    "df.total_pymnt_inv = df.total_pymnt_inv.fillna(0).astype(float)\n",
    "df.total_rec_prncp = df.total_rec_prncp.fillna(0).astype(float)\n",
    "df.total_rec_int = df.total_rec_int.astype(float)\n",
    "df.total_rec_late_fee = df.total_rec_late_fee.astype(float)\n",
    "df.recoveries = df.recoveries.astype(float)\n",
    "df.collection_recovery_fee = df.collection_recovery_fee.astype(float)\n",
    "df.last_pymnt_d = df.last_pymnt_d.fillna(method='ffill')\n",
    "df.last_pymnt_amnt = df.last_pymnt_amnt.fillna(0).astype(float)\n",
    "df.next_pymnt_d = df.next_pymnt_d.fillna(method='ffill') \n"
   ]
  },
  {
   "cell_type": "code",
   "execution_count": 15,
   "metadata": {
    "collapsed": false
   },
   "outputs": [
    {
     "data": {
      "text/html": [
       "<div>\n",
       "<table border=\"1\" class=\"dataframe\">\n",
       "  <thead>\n",
       "    <tr style=\"text-align: right;\">\n",
       "      <th></th>\n",
       "      <th>last_credit_pull_d</th>\n",
       "      <th>last_fico_range_high</th>\n",
       "      <th>last_fico_range_low</th>\n",
       "      <th>collections_12_mths_ex_med</th>\n",
       "      <th>mths_since_last_major_derog</th>\n",
       "      <th>policy_code</th>\n",
       "      <th>application_type</th>\n",
       "      <th>annual_inc_joint</th>\n",
       "      <th>dti_joint</th>\n",
       "      <th>verification_status_joint</th>\n",
       "    </tr>\n",
       "  </thead>\n",
       "  <tbody>\n",
       "    <tr>\n",
       "      <th>0</th>\n",
       "      <td>Mar-2017</td>\n",
       "      <td>729.0</td>\n",
       "      <td>725.0</td>\n",
       "      <td>0.0</td>\n",
       "      <td>NaN</td>\n",
       "      <td>1.0</td>\n",
       "      <td>INDIVIDUAL</td>\n",
       "      <td>NaN</td>\n",
       "      <td>NaN</td>\n",
       "      <td>NaN</td>\n",
       "    </tr>\n",
       "    <tr>\n",
       "      <th>1</th>\n",
       "      <td>Aug-2016</td>\n",
       "      <td>724.0</td>\n",
       "      <td>720.0</td>\n",
       "      <td>0.0</td>\n",
       "      <td>16.0</td>\n",
       "      <td>1.0</td>\n",
       "      <td>INDIVIDUAL</td>\n",
       "      <td>NaN</td>\n",
       "      <td>NaN</td>\n",
       "      <td>NaN</td>\n",
       "    </tr>\n",
       "  </tbody>\n",
       "</table>\n",
       "</div>"
      ],
      "text/plain": [
       "  last_credit_pull_d  last_fico_range_high  last_fico_range_low  \\\n",
       "0           Mar-2017                 729.0                725.0   \n",
       "1           Aug-2016                 724.0                720.0   \n",
       "\n",
       "   collections_12_mths_ex_med  mths_since_last_major_derog  policy_code  \\\n",
       "0                         0.0                          NaN          1.0   \n",
       "1                         0.0                         16.0          1.0   \n",
       "\n",
       "  application_type  annual_inc_joint  dti_joint verification_status_joint  \n",
       "0       INDIVIDUAL               NaN        NaN                       NaN  \n",
       "1       INDIVIDUAL               NaN        NaN                       NaN  "
      ]
     },
     "execution_count": 15,
     "metadata": {},
     "output_type": "execute_result"
    }
   ],
   "source": [
    "df.ix[:1,50:60].head(2)"
   ]
  },
  {
   "cell_type": "code",
   "execution_count": 16,
   "metadata": {
    "collapsed": false
   },
   "outputs": [
    {
     "name": "stderr",
     "output_type": "stream",
     "text": [
      "/Users/vikasshah/anaconda/lib/python3.5/site-packages/pandas/core/generic.py:2773: SettingWithCopyWarning: \n",
      "A value is trying to be set on a copy of a slice from a DataFrame.\n",
      "Try using .loc[row_indexer,col_indexer] = value instead\n",
      "\n",
      "See the caveats in the documentation: http://pandas.pydata.org/pandas-docs/stable/indexing.html#indexing-view-versus-copy\n",
      "  self[name] = value\n"
     ]
    }
   ],
   "source": [
    "df.last_credit_pull_d = df.last_credit_pull_d.fillna(method='ffill')\n",
    "df.last_fico_range_high = df.last_fico_range_high.astype(int)\n",
    "df.last_fico_range_low = df.last_fico_range_low.astype(int)\n",
    "df.collections_12_mths_ex_med = df.collections_12_mths_ex_med.fillna(0).astype(int)\n",
    "df.mths_since_last_major_derog = df.mths_since_last_major_derog.fillna(0).astype(int)\n",
    "df.policy_code = df.policy_code.astype(int)\n",
    "df.application_type = df.application_type.fillna('unknown')\n",
    "df.annual_inc_joint = df.annual_inc_joint.fillna(0)\n",
    "df.dti_joint = df.dti_joint.fillna(0)\n",
    "df.verification_status_joint = df.verification_status_joint.fillna(0)\n",
    "\n"
   ]
  },
  {
   "cell_type": "code",
   "execution_count": 17,
   "metadata": {
    "collapsed": false
   },
   "outputs": [
    {
     "data": {
      "text/html": [
       "<div>\n",
       "<table border=\"1\" class=\"dataframe\">\n",
       "  <thead>\n",
       "    <tr style=\"text-align: right;\">\n",
       "      <th></th>\n",
       "      <th>acc_now_delinq</th>\n",
       "      <th>tot_coll_amt</th>\n",
       "      <th>tot_cur_bal</th>\n",
       "      <th>open_acc_6m</th>\n",
       "      <th>open_il_6m</th>\n",
       "      <th>open_il_12m</th>\n",
       "      <th>open_il_24m</th>\n",
       "      <th>mths_since_rcnt_il</th>\n",
       "      <th>total_bal_il</th>\n",
       "      <th>il_util</th>\n",
       "    </tr>\n",
       "  </thead>\n",
       "  <tbody>\n",
       "    <tr>\n",
       "      <th>0</th>\n",
       "      <td>0.0</td>\n",
       "      <td>0.0</td>\n",
       "      <td>327264.0</td>\n",
       "      <td>NaN</td>\n",
       "      <td>NaN</td>\n",
       "      <td>NaN</td>\n",
       "      <td>NaN</td>\n",
       "      <td>NaN</td>\n",
       "      <td>NaN</td>\n",
       "      <td>NaN</td>\n",
       "    </tr>\n",
       "    <tr>\n",
       "      <th>1</th>\n",
       "      <td>0.0</td>\n",
       "      <td>0.0</td>\n",
       "      <td>353402.0</td>\n",
       "      <td>NaN</td>\n",
       "      <td>NaN</td>\n",
       "      <td>NaN</td>\n",
       "      <td>NaN</td>\n",
       "      <td>NaN</td>\n",
       "      <td>NaN</td>\n",
       "      <td>NaN</td>\n",
       "    </tr>\n",
       "  </tbody>\n",
       "</table>\n",
       "</div>"
      ],
      "text/plain": [
       "   acc_now_delinq  tot_coll_amt  tot_cur_bal  open_acc_6m  open_il_6m  \\\n",
       "0             0.0           0.0     327264.0          NaN         NaN   \n",
       "1             0.0           0.0     353402.0          NaN         NaN   \n",
       "\n",
       "   open_il_12m  open_il_24m  mths_since_rcnt_il  total_bal_il  il_util  \n",
       "0          NaN          NaN                 NaN           NaN      NaN  \n",
       "1          NaN          NaN                 NaN           NaN      NaN  "
      ]
     },
     "execution_count": 17,
     "metadata": {},
     "output_type": "execute_result"
    }
   ],
   "source": [
    "df.ix[:1,60:70].head(2)"
   ]
  },
  {
   "cell_type": "code",
   "execution_count": 18,
   "metadata": {
    "collapsed": false
   },
   "outputs": [
    {
     "name": "stderr",
     "output_type": "stream",
     "text": [
      "/Users/vikasshah/anaconda/lib/python3.5/site-packages/pandas/core/generic.py:2773: SettingWithCopyWarning: \n",
      "A value is trying to be set on a copy of a slice from a DataFrame.\n",
      "Try using .loc[row_indexer,col_indexer] = value instead\n",
      "\n",
      "See the caveats in the documentation: http://pandas.pydata.org/pandas-docs/stable/indexing.html#indexing-view-versus-copy\n",
      "  self[name] = value\n"
     ]
    }
   ],
   "source": [
    "df.acc_now_delinq = df.acc_now_delinq.astype(int)\n",
    "df.tot_coll_amt = df.tot_coll_amt.fillna(0).astype(int)\n",
    "df.tot_cur_bal = df.tot_cur_bal.fillna(0).astype(int)\n",
    "df.open_acc_6m = df.open_acc_6m.fillna(0).astype(int)\n",
    "df.open_il_6m = df.open_il_6m.fillna(0).astype(int)\n",
    "df.open_il_12m =df.open_il_12m.fillna(0).astype(int)\n",
    "df.open_il_24m = df.open_il_24m.fillna(0).astype(int)\n",
    "df.mths_since_rcnt_il = df.mths_since_rcnt_il.fillna(0).astype(int)\n",
    "df.total_bal_il =df.total_bal_il.fillna(0).astype(int)\n",
    "df.il_util= df.il_util.fillna(0).astype(int)\n",
    "df.num_sats = df.num_sats.fillna(0).astype(int)\n"
   ]
  },
  {
   "cell_type": "code",
   "execution_count": 19,
   "metadata": {
    "collapsed": false
   },
   "outputs": [
    {
     "data": {
      "text/html": [
       "<div>\n",
       "<table border=\"1\" class=\"dataframe\">\n",
       "  <thead>\n",
       "    <tr style=\"text-align: right;\">\n",
       "      <th></th>\n",
       "      <th>open_rv_12m</th>\n",
       "      <th>open_rv_24m</th>\n",
       "      <th>max_bal_bc</th>\n",
       "      <th>all_util</th>\n",
       "      <th>total_rev_hi_lim</th>\n",
       "      <th>inq_fi</th>\n",
       "      <th>total_cu_tl</th>\n",
       "      <th>inq_last_12m</th>\n",
       "      <th>acc_open_past_24mths</th>\n",
       "      <th>avg_cur_bal</th>\n",
       "    </tr>\n",
       "  </thead>\n",
       "  <tbody>\n",
       "    <tr>\n",
       "      <th>0</th>\n",
       "      <td>NaN</td>\n",
       "      <td>NaN</td>\n",
       "      <td>NaN</td>\n",
       "      <td>NaN</td>\n",
       "      <td>16200.0</td>\n",
       "      <td>NaN</td>\n",
       "      <td>NaN</td>\n",
       "      <td>NaN</td>\n",
       "      <td>4.0</td>\n",
       "      <td>36362.0</td>\n",
       "    </tr>\n",
       "    <tr>\n",
       "      <th>1</th>\n",
       "      <td>NaN</td>\n",
       "      <td>NaN</td>\n",
       "      <td>NaN</td>\n",
       "      <td>NaN</td>\n",
       "      <td>10000.0</td>\n",
       "      <td>NaN</td>\n",
       "      <td>NaN</td>\n",
       "      <td>NaN</td>\n",
       "      <td>2.0</td>\n",
       "      <td>39267.0</td>\n",
       "    </tr>\n",
       "  </tbody>\n",
       "</table>\n",
       "</div>"
      ],
      "text/plain": [
       "   open_rv_12m  open_rv_24m  max_bal_bc  all_util  total_rev_hi_lim  inq_fi  \\\n",
       "0          NaN          NaN         NaN       NaN           16200.0     NaN   \n",
       "1          NaN          NaN         NaN       NaN           10000.0     NaN   \n",
       "\n",
       "   total_cu_tl  inq_last_12m  acc_open_past_24mths  avg_cur_bal  \n",
       "0          NaN           NaN                   4.0      36362.0  \n",
       "1          NaN           NaN                   2.0      39267.0  "
      ]
     },
     "execution_count": 19,
     "metadata": {},
     "output_type": "execute_result"
    }
   ],
   "source": [
    "df.ix[:,70:80].head(2)"
   ]
  },
  {
   "cell_type": "code",
   "execution_count": 20,
   "metadata": {
    "collapsed": false
   },
   "outputs": [
    {
     "name": "stderr",
     "output_type": "stream",
     "text": [
      "/Users/vikasshah/anaconda/lib/python3.5/site-packages/pandas/core/generic.py:2773: SettingWithCopyWarning: \n",
      "A value is trying to be set on a copy of a slice from a DataFrame.\n",
      "Try using .loc[row_indexer,col_indexer] = value instead\n",
      "\n",
      "See the caveats in the documentation: http://pandas.pydata.org/pandas-docs/stable/indexing.html#indexing-view-versus-copy\n",
      "  self[name] = value\n"
     ]
    }
   ],
   "source": [
    "df.total_rev_hi_lim =df.total_rev_hi_lim.fillna(0).astype(float)\n",
    "df.acc_open_past_24mths = df.acc_open_past_24mths.fillna(0).astype(int)\n",
    "df.avg_cur_bal = df.avg_cur_bal.fillna(0).astype(float)\n",
    "df.mths_since_recent_bc =df.mths_since_recent_bc.fillna(0).astype(int)"
   ]
  },
  {
   "cell_type": "code",
   "execution_count": 21,
   "metadata": {
    "collapsed": false
   },
   "outputs": [
    {
     "name": "stderr",
     "output_type": "stream",
     "text": [
      "/Users/vikasshah/anaconda/lib/python3.5/site-packages/pandas/core/generic.py:2773: SettingWithCopyWarning: \n",
      "A value is trying to be set on a copy of a slice from a DataFrame.\n",
      "Try using .loc[row_indexer,col_indexer] = value instead\n",
      "\n",
      "See the caveats in the documentation: http://pandas.pydata.org/pandas-docs/stable/indexing.html#indexing-view-versus-copy\n",
      "  self[name] = value\n",
      "/Users/vikasshah/anaconda/lib/python3.5/site-packages/ipykernel/__main__.py:12: SettingWithCopyWarning: \n",
      "A value is trying to be set on a copy of a slice from a DataFrame.\n",
      "Try using .loc[row_indexer,col_indexer] = value instead\n",
      "\n",
      "See the caveats in the documentation: http://pandas.pydata.org/pandas-docs/stable/indexing.html#indexing-view-versus-copy\n"
     ]
    }
   ],
   "source": [
    "df.ix[:,80:90].head(2)\n",
    "\n",
    "df.bc_util =df.bc_util.fillna(0).astype(int)\n",
    "df.delinq_amnt = df.delinq_amnt.fillna(0).astype(int)\n",
    "df.mths_since_recent_bc_dlq =df.mths_since_recent_bc_dlq.fillna(0).astype(int)\n",
    "df.mths_since_recent_inq = df.mths_since_recent_inq.fillna(0).astype(int)\n",
    "df.mths_since_recent_revol_delinq = df.mths_since_recent_revol_delinq.fillna(0)\n",
    "df.tax_liens = df.tax_liens.astype(int)\n",
    "df.tot_hi_cred_lim = df.tot_hi_cred_lim.fillna(0).astype(float)\n",
    "df.total_il_high_credit_limit = df.total_il_high_credit_limit.fillna(0).astype(float)\n",
    "\n",
    "df['inq_fi']=df['inq_fi'].fillna((df.inq_fi.mean())).astype(int)"
   ]
  },
  {
   "cell_type": "code",
   "execution_count": 22,
   "metadata": {
    "collapsed": true
   },
   "outputs": [],
   "source": [
    "del df['bc_open_to_buy']\n",
    "del df['chargeoff_within_12_mths']\n",
    "del df['mo_sin_old_il_acct']\n",
    "del df['mo_sin_old_rev_tl_op']\n",
    "del df['mo_sin_rcnt_rev_tl_op']\n",
    "del df['mo_sin_rcnt_tl']\n",
    "del df['mort_acc']\n",
    "del df['mths_since_recent_bc']\n",
    "\n",
    "\n",
    "del df['num_accts_ever_120_pd']\n",
    "del df['num_actv_bc_tl']\n",
    "del df['num_actv_rev_tl']\n",
    "del df['num_bc_sats']\n",
    "del df['num_bc_tl']\n",
    "del df['num_il_tl']\n",
    "del df['num_op_rev_tl']\n",
    "del df['num_rev_accts']\n",
    "del df['num_rev_tl_bal_gt_0']\n",
    "del df['num_tl_120dpd_2m']\n",
    "del df['num_tl_30dpd']\n",
    "del df['num_tl_90g_dpd_24m']\n",
    "\n",
    "\n",
    "del df['pct_tl_nvr_dlq']\n",
    "del df['percent_bc_gt_75']\n",
    "del df['pub_rec_bankruptcies']\n",
    "del df['total_bal_ex_mort']\n",
    "\n",
    "del df['total_bc_limit']\n",
    "\n",
    "del df['id']\n",
    "del df['member_id']\n",
    "del df['emp_title']\n",
    "del df['desc']\n",
    "del df['max_bal_bc']\n",
    "del df['all_util']\n",
    "#del df['inq_fi']\n",
    "del df['total_cu_tl']\n",
    "del df['verification_status_joint']\n",
    "del df['initial_list_status']\n",
    "del df['inq_last_12m']\n",
    "del df['total_bal_il']\n",
    "del df['il_util']\n",
    "del df['open_rv_12m']\n",
    "del df['mths_since_recent_revol_delinq']\n",
    "del df['mths_since_recent_bc_dlq']\n",
    "del df['open_acc_6m']\n",
    "del df['open_il_6m']\n",
    "del df['open_il_12m']\n",
    "del df['open_il_24m']\n",
    "del df['mths_since_rcnt_il']\n",
    "\n",
    "\n",
    "del df['open_rv_24m']\n",
    "del df['mths_since_last_record'] \n",
    "del df['mths_since_last_major_derog']\n",
    "del df['annual_inc_joint']\n",
    "del df['dti_joint']\n",
    "del df['next_pymnt_d']\n",
    "del df['title']\n",
    "\n",
    "\n",
    "del df['num_sats']\n",
    "del df['acc_open_past_24mths']\n",
    "#del  df['pub_rec']\n",
    "del df['avg_cur_bal']"
   ]
  },
  {
   "cell_type": "code",
   "execution_count": 23,
   "metadata": {
    "collapsed": false
   },
   "outputs": [
    {
     "data": {
      "text/plain": [
       "funded_amnt              loan_amnt               0.999624\n",
       "funded_amnt_inv          loan_amnt               0.998665\n",
       "                         funded_amnt             0.999123\n",
       "installment              loan_amnt               0.946476\n",
       "                         funded_amnt             0.946997\n",
       "                         funded_amnt_inv         0.945943\n",
       "fico_range_high          fico_range_low          1.000000\n",
       "total_acc                open_acc                0.703382\n",
       "out_prncp_inv            out_prncp               0.999997\n",
       "total_pymnt              loan_amnt               0.630559\n",
       "                         funded_amnt             0.630215\n",
       "                         funded_amnt_inv         0.628587\n",
       "                         installment             0.633237\n",
       "total_pymnt_inv          loan_amnt               0.630774\n",
       "                         funded_amnt             0.630517\n",
       "                         funded_amnt_inv         0.630605\n",
       "                         installment             0.633372\n",
       "                         total_pymnt             0.999030\n",
       "total_rec_prncp          installment             0.564003\n",
       "                         total_pymnt             0.966036\n",
       "                         total_pymnt_inv         0.965012\n",
       "total_rec_int            loan_amnt               0.616785\n",
       "                         funded_amnt             0.616506\n",
       "                         funded_amnt_inv         0.615641\n",
       "                         total_pymnt             0.655058\n",
       "                         total_pymnt_inv         0.654759\n",
       "collection_recovery_fee  recoveries              0.918244\n",
       "last_pymnt_amnt          total_pymnt             0.636574\n",
       "                         total_pymnt_inv         0.636710\n",
       "                         total_rec_prncp         0.724327\n",
       "last_fico_range_low      last_fico_range_high    0.856154\n",
       "total_rev_hi_lim         revol_bal               0.808303\n",
       "bc_util                  revol_util              0.765500\n",
       "tax_liens                pub_rec                 0.715262\n",
       "tot_hi_cred_lim          tot_cur_bal             0.974675\n",
       "dtype: float64"
      ]
     },
     "execution_count": 23,
     "metadata": {},
     "output_type": "execute_result"
    }
   ],
   "source": [
    "cor = df.corr()\n",
    "cor.loc[:,:] = np.tril(cor, k=-1) \n",
    "cor = cor.stack()\n",
    "cor[(cor > 0.55) | (cor < -0.55)]  "
   ]
  },
  {
   "cell_type": "code",
   "execution_count": 26,
   "metadata": {
    "collapsed": false
   },
   "outputs": [
    {
     "ename": "ValueError",
     "evalue": "labels ['funded_amnt' 'installment' 'total_rev_hi_lim' 'funded_amnt_inv'\n 'funded_amnt' 'out_prncp_inv' 'total_pymnt' 'total_pymnt_inv'\n 'total_rec_prncp' 'total_rec_int' 'collection_recovery_fee'\n 'last_pymnt_amnt' 'last_fico_range_low' 'last_fico_range_high'\n 'tot_hi_cred_lim'] not contained in axis",
     "output_type": "error",
     "traceback": [
      "\u001b[0;31m---------------------------------------------------------------------------\u001b[0m",
      "\u001b[0;31mValueError\u001b[0m                                Traceback (most recent call last)",
      "\u001b[0;32m<ipython-input-26-1170db5da0a8>\u001b[0m in \u001b[0;36m<module>\u001b[0;34m()\u001b[0m\n\u001b[0;32m----> 1\u001b[0;31m \u001b[0mdf\u001b[0m\u001b[0;34m.\u001b[0m\u001b[0mdrop\u001b[0m\u001b[0;34m(\u001b[0m\u001b[0;34m[\u001b[0m\u001b[0;34m'funded_amnt'\u001b[0m\u001b[0;34m,\u001b[0m\u001b[0;34m'installment'\u001b[0m\u001b[0;34m,\u001b[0m\u001b[0;34m'total_rev_hi_lim'\u001b[0m\u001b[0;34m,\u001b[0m\u001b[0;34m'funded_amnt_inv'\u001b[0m\u001b[0;34m,\u001b[0m\u001b[0;34m'funded_amnt'\u001b[0m\u001b[0;34m,\u001b[0m\u001b[0;34m'out_prncp_inv'\u001b[0m\u001b[0;34m,\u001b[0m\u001b[0;34m'total_pymnt'\u001b[0m\u001b[0;34m,\u001b[0m\u001b[0;34m'total_pymnt_inv'\u001b[0m\u001b[0;34m,\u001b[0m\u001b[0;34m'total_rec_prncp'\u001b[0m\u001b[0;34m,\u001b[0m\u001b[0;34m'total_rec_int'\u001b[0m\u001b[0;34m,\u001b[0m\u001b[0;34m'collection_recovery_fee'\u001b[0m\u001b[0;34m,\u001b[0m\u001b[0;34m'last_pymnt_amnt'\u001b[0m\u001b[0;34m,\u001b[0m\u001b[0;34m'last_fico_range_low'\u001b[0m\u001b[0;34m,\u001b[0m\u001b[0;34m'last_fico_range_high'\u001b[0m\u001b[0;34m,\u001b[0m\u001b[0;34m'tot_hi_cred_lim'\u001b[0m\u001b[0;34m]\u001b[0m\u001b[0;34m,\u001b[0m\u001b[0;36m1\u001b[0m\u001b[0;34m,\u001b[0m\u001b[0minplace\u001b[0m\u001b[0;34m=\u001b[0m\u001b[0;32mTrue\u001b[0m\u001b[0;34m)\u001b[0m\u001b[0;34m\u001b[0m\u001b[0m\n\u001b[0m",
      "\u001b[0;32m/Users/vikasshah/anaconda/lib/python3.5/site-packages/pandas/core/generic.py\u001b[0m in \u001b[0;36mdrop\u001b[0;34m(self, labels, axis, level, inplace, errors)\u001b[0m\n\u001b[1;32m   1905\u001b[0m                 \u001b[0mnew_axis\u001b[0m \u001b[0;34m=\u001b[0m \u001b[0maxis\u001b[0m\u001b[0;34m.\u001b[0m\u001b[0mdrop\u001b[0m\u001b[0;34m(\u001b[0m\u001b[0mlabels\u001b[0m\u001b[0;34m,\u001b[0m \u001b[0mlevel\u001b[0m\u001b[0;34m=\u001b[0m\u001b[0mlevel\u001b[0m\u001b[0;34m,\u001b[0m \u001b[0merrors\u001b[0m\u001b[0;34m=\u001b[0m\u001b[0merrors\u001b[0m\u001b[0;34m)\u001b[0m\u001b[0;34m\u001b[0m\u001b[0m\n\u001b[1;32m   1906\u001b[0m             \u001b[0;32melse\u001b[0m\u001b[0;34m:\u001b[0m\u001b[0;34m\u001b[0m\u001b[0m\n\u001b[0;32m-> 1907\u001b[0;31m                 \u001b[0mnew_axis\u001b[0m \u001b[0;34m=\u001b[0m \u001b[0maxis\u001b[0m\u001b[0;34m.\u001b[0m\u001b[0mdrop\u001b[0m\u001b[0;34m(\u001b[0m\u001b[0mlabels\u001b[0m\u001b[0;34m,\u001b[0m \u001b[0merrors\u001b[0m\u001b[0;34m=\u001b[0m\u001b[0merrors\u001b[0m\u001b[0;34m)\u001b[0m\u001b[0;34m\u001b[0m\u001b[0m\n\u001b[0m\u001b[1;32m   1908\u001b[0m             \u001b[0mdropped\u001b[0m \u001b[0;34m=\u001b[0m \u001b[0mself\u001b[0m\u001b[0;34m.\u001b[0m\u001b[0mreindex\u001b[0m\u001b[0;34m(\u001b[0m\u001b[0;34m**\u001b[0m\u001b[0;34m{\u001b[0m\u001b[0maxis_name\u001b[0m\u001b[0;34m:\u001b[0m \u001b[0mnew_axis\u001b[0m\u001b[0;34m}\u001b[0m\u001b[0;34m)\u001b[0m\u001b[0;34m\u001b[0m\u001b[0m\n\u001b[1;32m   1909\u001b[0m             \u001b[0;32mtry\u001b[0m\u001b[0;34m:\u001b[0m\u001b[0;34m\u001b[0m\u001b[0m\n",
      "\u001b[0;32m/Users/vikasshah/anaconda/lib/python3.5/site-packages/pandas/indexes/base.py\u001b[0m in \u001b[0;36mdrop\u001b[0;34m(self, labels, errors)\u001b[0m\n\u001b[1;32m   3260\u001b[0m             \u001b[0;32mif\u001b[0m \u001b[0merrors\u001b[0m \u001b[0;34m!=\u001b[0m \u001b[0;34m'ignore'\u001b[0m\u001b[0;34m:\u001b[0m\u001b[0;34m\u001b[0m\u001b[0m\n\u001b[1;32m   3261\u001b[0m                 raise ValueError('labels %s not contained in axis' %\n\u001b[0;32m-> 3262\u001b[0;31m                                  labels[mask])\n\u001b[0m\u001b[1;32m   3263\u001b[0m             \u001b[0mindexer\u001b[0m \u001b[0;34m=\u001b[0m \u001b[0mindexer\u001b[0m\u001b[0;34m[\u001b[0m\u001b[0;34m~\u001b[0m\u001b[0mmask\u001b[0m\u001b[0;34m]\u001b[0m\u001b[0;34m\u001b[0m\u001b[0m\n\u001b[1;32m   3264\u001b[0m         \u001b[0;32mreturn\u001b[0m \u001b[0mself\u001b[0m\u001b[0;34m.\u001b[0m\u001b[0mdelete\u001b[0m\u001b[0;34m(\u001b[0m\u001b[0mindexer\u001b[0m\u001b[0;34m)\u001b[0m\u001b[0;34m\u001b[0m\u001b[0m\n",
      "\u001b[0;31mValueError\u001b[0m: labels ['funded_amnt' 'installment' 'total_rev_hi_lim' 'funded_amnt_inv'\n 'funded_amnt' 'out_prncp_inv' 'total_pymnt' 'total_pymnt_inv'\n 'total_rec_prncp' 'total_rec_int' 'collection_recovery_fee'\n 'last_pymnt_amnt' 'last_fico_range_low' 'last_fico_range_high'\n 'tot_hi_cred_lim'] not contained in axis"
     ]
    }
   ],
   "source": [
    "df.drop(['funded_amnt','installment','total_rev_hi_lim','funded_amnt_inv','funded_amnt','out_prncp_inv','total_pymnt','total_pymnt_inv','total_rec_prncp','total_rec_int','collection_recovery_fee','last_pymnt_amnt','last_fico_range_low','last_fico_range_high','tot_hi_cred_lim'],1,inplace=True)"
   ]
  },
  {
   "cell_type": "code",
   "execution_count": 28,
   "metadata": {
    "collapsed": false
   },
   "outputs": [
    {
     "data": {
      "text/plain": [
       "fico_range_high  fico_range_low    1.000000\n",
       "total_acc        open_acc          0.703382\n",
       "bc_util          revol_util        0.765500\n",
       "tax_liens        pub_rec           0.715262\n",
       "dtype: float64"
      ]
     },
     "execution_count": 28,
     "metadata": {},
     "output_type": "execute_result"
    }
   ],
   "source": [
    "cor = df.corr()\n",
    "cor.loc[:,:] = np.tril(cor, k=-1) \n",
    "cor = cor.stack()\n",
    "cor[(cor > 0.55) | (cor < -0.55)]"
   ]
  },
  {
   "cell_type": "code",
   "execution_count": 43,
   "metadata": {
    "collapsed": false
   },
   "outputs": [
    {
     "name": "stderr",
     "output_type": "stream",
     "text": [
      "/Users/vikasshah/anaconda/lib/python3.5/site-packages/ipykernel/__main__.py:5: SettingWithCopyWarning: \n",
      "A value is trying to be set on a copy of a slice from a DataFrame.\n",
      "Try using .loc[row_indexer,col_indexer] = value instead\n",
      "\n",
      "See the caveats in the documentation: http://pandas.pydata.org/pandas-docs/stable/indexing.html#indexing-view-versus-copy\n"
     ]
    }
   ],
   "source": [
    "df.earliest_cr_line_yr =pd.Series(df['earliest_cr_line'].str[4:]).astype(int)\n",
    "df.last_credit_pull_d_yr = pd.Series(df['last_credit_pull_d'].str[4:]).astype(int)\n",
    "\n",
    "\n",
    "df['credit_age'] = df.last_credit_pull_d_yr - df.earliest_cr_line_yr\n"
   ]
  },
  {
   "cell_type": "code",
   "execution_count": null,
   "metadata": {
    "collapsed": true
   },
   "outputs": [],
   "source": []
  },
  {
   "cell_type": "code",
   "execution_count": 30,
   "metadata": {
    "collapsed": false
   },
   "outputs": [],
   "source": [
    "#df['verification_status'] = pd.Categorical.from_array(df.verification_status).labels\n"
   ]
  },
  {
   "cell_type": "code",
   "execution_count": 31,
   "metadata": {
    "collapsed": false
   },
   "outputs": [
    {
     "name": "stderr",
     "output_type": "stream",
     "text": [
      "/Users/vikasshah/anaconda/lib/python3.5/site-packages/ipykernel/__main__.py:1: SettingWithCopyWarning: \n",
      "A value is trying to be set on a copy of a slice from a DataFrame.\n",
      "Try using .loc[row_indexer,col_indexer] = value instead\n",
      "\n",
      "See the caveats in the documentation: http://pandas.pydata.org/pandas-docs/stable/indexing.html#indexing-view-versus-copy\n",
      "  if __name__ == '__main__':\n",
      "/Users/vikasshah/anaconda/lib/python3.5/site-packages/ipykernel/__main__.py:2: FutureWarning: Categorical.from_array is deprecated, use Categorical instead\n",
      "  from ipykernel import kernelapp as app\n",
      "/Users/vikasshah/anaconda/lib/python3.5/site-packages/ipykernel/__main__.py:2: FutureWarning: 'labels' is deprecated. Use 'codes' instead\n",
      "  from ipykernel import kernelapp as app\n",
      "/Users/vikasshah/anaconda/lib/python3.5/site-packages/ipykernel/__main__.py:2: SettingWithCopyWarning: \n",
      "A value is trying to be set on a copy of a slice from a DataFrame.\n",
      "Try using .loc[row_indexer,col_indexer] = value instead\n",
      "\n",
      "See the caveats in the documentation: http://pandas.pydata.org/pandas-docs/stable/indexing.html#indexing-view-versus-copy\n",
      "  from ipykernel import kernelapp as app\n",
      "/Users/vikasshah/anaconda/lib/python3.5/site-packages/ipykernel/__main__.py:4: FutureWarning: Categorical.from_array is deprecated, use Categorical instead\n",
      "/Users/vikasshah/anaconda/lib/python3.5/site-packages/ipykernel/__main__.py:4: FutureWarning: 'labels' is deprecated. Use 'codes' instead\n",
      "/Users/vikasshah/anaconda/lib/python3.5/site-packages/ipykernel/__main__.py:4: SettingWithCopyWarning: \n",
      "A value is trying to be set on a copy of a slice from a DataFrame.\n",
      "Try using .loc[row_indexer,col_indexer] = value instead\n",
      "\n",
      "See the caveats in the documentation: http://pandas.pydata.org/pandas-docs/stable/indexing.html#indexing-view-versus-copy\n",
      "/Users/vikasshah/anaconda/lib/python3.5/site-packages/ipykernel/__main__.py:5: FutureWarning: Categorical.from_array is deprecated, use Categorical instead\n",
      "/Users/vikasshah/anaconda/lib/python3.5/site-packages/ipykernel/__main__.py:5: FutureWarning: 'labels' is deprecated. Use 'codes' instead\n",
      "/Users/vikasshah/anaconda/lib/python3.5/site-packages/ipykernel/__main__.py:5: SettingWithCopyWarning: \n",
      "A value is trying to be set on a copy of a slice from a DataFrame.\n",
      "Try using .loc[row_indexer,col_indexer] = value instead\n",
      "\n",
      "See the caveats in the documentation: http://pandas.pydata.org/pandas-docs/stable/indexing.html#indexing-view-versus-copy\n",
      "/Users/vikasshah/anaconda/lib/python3.5/site-packages/ipykernel/__main__.py:6: FutureWarning: Categorical.from_array is deprecated, use Categorical instead\n",
      "/Users/vikasshah/anaconda/lib/python3.5/site-packages/ipykernel/__main__.py:6: FutureWarning: 'labels' is deprecated. Use 'codes' instead\n",
      "/Users/vikasshah/anaconda/lib/python3.5/site-packages/ipykernel/__main__.py:6: SettingWithCopyWarning: \n",
      "A value is trying to be set on a copy of a slice from a DataFrame.\n",
      "Try using .loc[row_indexer,col_indexer] = value instead\n",
      "\n",
      "See the caveats in the documentation: http://pandas.pydata.org/pandas-docs/stable/indexing.html#indexing-view-versus-copy\n",
      "/Users/vikasshah/anaconda/lib/python3.5/site-packages/ipykernel/__main__.py:7: FutureWarning: Categorical.from_array is deprecated, use Categorical instead\n",
      "/Users/vikasshah/anaconda/lib/python3.5/site-packages/ipykernel/__main__.py:7: FutureWarning: 'labels' is deprecated. Use 'codes' instead\n",
      "/Users/vikasshah/anaconda/lib/python3.5/site-packages/ipykernel/__main__.py:7: SettingWithCopyWarning: \n",
      "A value is trying to be set on a copy of a slice from a DataFrame.\n",
      "Try using .loc[row_indexer,col_indexer] = value instead\n",
      "\n",
      "See the caveats in the documentation: http://pandas.pydata.org/pandas-docs/stable/indexing.html#indexing-view-versus-copy\n",
      "/Users/vikasshah/anaconda/lib/python3.5/site-packages/ipykernel/__main__.py:8: FutureWarning: Categorical.from_array is deprecated, use Categorical instead\n",
      "/Users/vikasshah/anaconda/lib/python3.5/site-packages/ipykernel/__main__.py:8: FutureWarning: 'labels' is deprecated. Use 'codes' instead\n",
      "/Users/vikasshah/anaconda/lib/python3.5/site-packages/ipykernel/__main__.py:8: SettingWithCopyWarning: \n",
      "A value is trying to be set on a copy of a slice from a DataFrame.\n",
      "Try using .loc[row_indexer,col_indexer] = value instead\n",
      "\n",
      "See the caveats in the documentation: http://pandas.pydata.org/pandas-docs/stable/indexing.html#indexing-view-versus-copy\n"
     ]
    }
   ],
   "source": [
    "df['meanfico'] = (df.fico_range_low + df.fico_range_high)/2\n",
    "df['addr_state'] = pd.Categorical.from_array(df.addr_state).labels\n",
    "df['grade'] = pd.Categorical.from_array(df.grade).labels\n",
    "df['home_ownership'] = pd.Categorical.from_array(df.home_ownership).labels\n",
    "df['verification_status'] = pd.Categorical.from_array(df.verification_status).labels\n",
    "df['loan_status'] = pd.Categorical.from_array(df.loan_status).labels\n",
    "df['purpose']= pd.Categorical.from_array(df.purpose).labels"
   ]
  },
  {
   "cell_type": "code",
   "execution_count": 32,
   "metadata": {
    "collapsed": false
   },
   "outputs": [
    {
     "data": {
      "text/plain": [
       "grade            int_rate           0.955327\n",
       "fico_range_high  fico_range_low     1.000000\n",
       "total_acc        open_acc           0.703382\n",
       "bc_util          revol_util         0.765500\n",
       "tax_liens        pub_rec            0.715262\n",
       "meanfico         fico_range_low     1.000000\n",
       "                 fico_range_high    1.000000\n",
       "dtype: float64"
      ]
     },
     "execution_count": 32,
     "metadata": {},
     "output_type": "execute_result"
    }
   ],
   "source": [
    "cor = df.corr()\n",
    "cor.loc[:,:] = np.tril(cor, k=-1) \n",
    "cor = cor.stack()\n",
    "cor[(cor > 0.55) | (cor < -0.55)]"
   ]
  },
  {
   "cell_type": "code",
   "execution_count": 33,
   "metadata": {
    "collapsed": false
   },
   "outputs": [
    {
     "name": "stderr",
     "output_type": "stream",
     "text": [
      "/Users/vikasshah/anaconda/lib/python3.5/site-packages/ipykernel/__main__.py:1: SettingWithCopyWarning: \n",
      "A value is trying to be set on a copy of a slice from a DataFrame\n",
      "\n",
      "See the caveats in the documentation: http://pandas.pydata.org/pandas-docs/stable/indexing.html#indexing-view-versus-copy\n",
      "  if __name__ == '__main__':\n"
     ]
    }
   ],
   "source": [
    "df.drop(['fico_range_high','fico_range_low'],1,inplace=True)"
   ]
  },
  {
   "cell_type": "code",
   "execution_count": 34,
   "metadata": {
    "collapsed": false
   },
   "outputs": [
    {
     "name": "stderr",
     "output_type": "stream",
     "text": [
      "/Users/vikasshah/anaconda/lib/python3.5/site-packages/ipykernel/__main__.py:2: FutureWarning: Categorical.from_array is deprecated, use Categorical instead\n",
      "  from ipykernel import kernelapp as app\n",
      "/Users/vikasshah/anaconda/lib/python3.5/site-packages/ipykernel/__main__.py:2: FutureWarning: 'labels' is deprecated. Use 'codes' instead\n",
      "  from ipykernel import kernelapp as app\n",
      "/Users/vikasshah/anaconda/lib/python3.5/site-packages/ipykernel/__main__.py:2: SettingWithCopyWarning: \n",
      "A value is trying to be set on a copy of a slice from a DataFrame.\n",
      "Try using .loc[row_indexer,col_indexer] = value instead\n",
      "\n",
      "See the caveats in the documentation: http://pandas.pydata.org/pandas-docs/stable/indexing.html#indexing-view-versus-copy\n",
      "  from ipykernel import kernelapp as app\n"
     ]
    }
   ],
   "source": [
    "#sub_grade\n",
    "df['sub_grade']= pd.Categorical.from_array(df.sub_grade).labels"
   ]
  },
  {
   "cell_type": "code",
   "execution_count": 37,
   "metadata": {
    "collapsed": false
   },
   "outputs": [],
   "source": [
    "df2 = df[['loan_amnt','sub_grade','purpose','term','pub_rec','total_acc','int_rate','grade','inq_fi','emp_length_clean','home_ownership','annual_inc','verification_status','loan_status','addr_state',\n",
    "'dti','delinq_2yrs','credit_age','inq_last_6mths','mths_since_last_delinq','open_acc','revol_util','out_prncp','recoveries','bc_util','meanfico']]"
   ]
  },
  {
   "cell_type": "code",
   "execution_count": 38,
   "metadata": {
    "collapsed": false
   },
   "outputs": [
    {
     "data": {
      "text/plain": [
       "loan_amnt                 False\n",
       "sub_grade                 False\n",
       "purpose                   False\n",
       "term                      False\n",
       "pub_rec                   False\n",
       "total_acc                 False\n",
       "int_rate                  False\n",
       "grade                     False\n",
       "inq_fi                    False\n",
       "emp_length_clean          False\n",
       "home_ownership            False\n",
       "annual_inc                False\n",
       "verification_status       False\n",
       "loan_status               False\n",
       "addr_state                False\n",
       "dti                       False\n",
       "delinq_2yrs               False\n",
       "credit_age                False\n",
       "inq_last_6mths            False\n",
       "mths_since_last_delinq    False\n",
       "open_acc                  False\n",
       "revol_util                False\n",
       "out_prncp                 False\n",
       "recoveries                False\n",
       "bc_util                   False\n",
       "meanfico                  False\n",
       "dtype: bool"
      ]
     },
     "execution_count": 38,
     "metadata": {},
     "output_type": "execute_result"
    }
   ],
   "source": [
    "df2.isnull().any()"
   ]
  },
  {
   "cell_type": "code",
   "execution_count": 39,
   "metadata": {
    "collapsed": false
   },
   "outputs": [
    {
     "name": "stdout",
     "output_type": "stream",
     "text": [
      "Features sorted by their rank:\n",
      "[(1, 'sub_grade'), (2, 'loan_status'), (3, 'inq_fi'), (4, 'verification_status'), (5, 'pub_rec'), (6, 'inq_last_6mths'), (7, 'delinq_2yrs'), (8, 'grade'), (9, 'term'), (10, 'open_acc'), (11, 'emp_length_clean'), (12, 'bc_util'), (13, 'purpose'), (14, 'revol_util'), (15, 'home_ownership'), (16, 'meanfico'), (17, 'credit_age'), (18, 'mths_since_last_delinq'), (19, 'addr_state'), (20, 'recoveries'), (21, 'dti'), (22, 'out_prncp'), (23, 'annual_inc'), (24, 'loan_amnt')]\n"
     ]
    }
   ],
   "source": [
    "from sklearn.feature_selection import RFE\n",
    "from sklearn.linear_model import LinearRegression\n",
    "from sklearn.datasets import load_boston\n",
    "boston = load_boston()\n",
    "X_train =  pd.DataFrame()\n",
    "\n",
    "\n",
    "X_train = df2[['loan_amnt','term','sub_grade','purpose','pub_rec','grade','revol_util','inq_fi','emp_length_clean','home_ownership','annual_inc','verification_status','loan_status','addr_state',\n",
    "'dti','delinq_2yrs','credit_age','inq_last_6mths','mths_since_last_delinq','open_acc','out_prncp','recoveries','bc_util','meanfico']]\n",
    "y_train = pd.DataFrame()\n",
    "y_train = df[\"int_rate\"]\n",
    "\n",
    "\n",
    "lr = LinearRegression()\n",
    "rfe = RFE(lr, n_features_to_select=1)\n",
    "rfe.fit(X_train,y_train)\n",
    " \n",
    "print (\"Features sorted by their rank:\")\n",
    "ranking_out = zip(map(lambda x: round(x, 4), rfe.ranking_), X_train.columns)\n",
    "print (sorted(zip(map(lambda x: round(x, 4), rfe.ranking_), X_train.columns)))"
   ]
  },
  {
   "cell_type": "code",
   "execution_count": 44,
   "metadata": {
    "collapsed": false
   },
   "outputs": [],
   "source": [
    "from sklearn.metrics import r2_score\n",
    "import random\n",
    "\n",
    "Train_Test_Data1 = pd.DataFrame()\n",
    "Train_Test_Data1 =df2[[\"loan_amnt\",\"sub_grade\",\"purpose\",\"term\",\"pub_rec\",\"emp_length_clean\",\"home_ownership\",\"annual_inc\",\"verification_status\",\"addr_state\",\"dti\",\"delinq_2yrs\",\"inq_last_6mths\",\"mths_since_last_delinq\",\"open_acc\",\"revol_util\",\"meanfico\"]]\n",
    "\n",
    "\n",
    "Predcit_Data1 =  pd.DataFrame()\n",
    "Predcit_Data1 = df[\"int_rate\"]\n",
    "\n",
    "\n",
    "#############################################################\n",
    "\n",
    "from sklearn.metrics import r2_score\n",
    "\n",
    "X_train, x_test, y_train, y_test = train_test_split(Train_Test_Data1,Predcit_Data1,random_state=0,train_size = 0.8)"
   ]
  },
  {
   "cell_type": "code",
   "execution_count": 41,
   "metadata": {
    "collapsed": false
   },
   "outputs": [
    {
     "name": "stdout",
     "output_type": "stream",
     "text": [
      "Coefficientis: [ -4.43785657e-08  -4.78167698e-03   6.99138851e-01  -4.51964545e-03\n",
      "  -3.50053678e-02   1.74719994e-02  -1.73202399e-03   7.99712076e-02\n",
      "   3.63664526e-03   7.47866818e-04  -2.85082801e-07   5.50154351e-02\n",
      "   1.17128665e-01  -1.76269014e-04  -3.13837395e-05  -1.43331587e-02\n",
      "   1.03624916e-03   3.82578279e-02  -6.15474105e-04  -4.82294507e-03\n",
      "  -5.07882757e-06   4.50011706e-05   3.98326542e-03   1.61253996e-03]\n",
      "Intercept is 4.34308030599\n",
      "TrainData Rmse 0.901219935224\n"
     ]
    },
    {
     "ename": "NameError",
     "evalue": "name 'x_test' is not defined",
     "output_type": "error",
     "traceback": [
      "\u001b[0;31m---------------------------------------------------------------------------\u001b[0m",
      "\u001b[0;31mNameError\u001b[0m                                 Traceback (most recent call last)",
      "\u001b[0;32m<ipython-input-41-b0fb49b4a214>\u001b[0m in \u001b[0;36m<module>\u001b[0;34m()\u001b[0m\n\u001b[1;32m     12\u001b[0m \u001b[0;34m\u001b[0m\u001b[0m\n\u001b[1;32m     13\u001b[0m \u001b[0;31m### on test data\u001b[0m\u001b[0;34m\u001b[0m\u001b[0;34m\u001b[0m\u001b[0m\n\u001b[0;32m---> 14\u001b[0;31m \u001b[0mtest_pred\u001b[0m \u001b[0;34m=\u001b[0m \u001b[0mlm\u001b[0m\u001b[0;34m.\u001b[0m\u001b[0mpredict\u001b[0m\u001b[0;34m(\u001b[0m\u001b[0mx_test\u001b[0m\u001b[0;34m)\u001b[0m\u001b[0;34m\u001b[0m\u001b[0m\n\u001b[0m\u001b[1;32m     15\u001b[0m \u001b[0mMAE\u001b[0m \u001b[0;34m=\u001b[0m \u001b[0mmean_absolute_error\u001b[0m\u001b[0;34m(\u001b[0m\u001b[0my_test\u001b[0m\u001b[0;34m,\u001b[0m\u001b[0mtest_pred\u001b[0m\u001b[0;34m)\u001b[0m\u001b[0;34m\u001b[0m\u001b[0m\n\u001b[1;32m     16\u001b[0m \u001b[0mprint\u001b[0m\u001b[0;34m(\u001b[0m\u001b[0;34m\"R-Square\"\u001b[0m\u001b[0;34m,\u001b[0m\u001b[0mr2_score\u001b[0m\u001b[0;34m(\u001b[0m\u001b[0my_test\u001b[0m\u001b[0;34m,\u001b[0m\u001b[0mtest_pred\u001b[0m\u001b[0;34m)\u001b[0m\u001b[0;34m)\u001b[0m\u001b[0;34m\u001b[0m\u001b[0m\n",
      "\u001b[0;31mNameError\u001b[0m: name 'x_test' is not defined"
     ]
    }
   ],
   "source": [
    "\n",
    "from sklearn.metrics import *\n",
    "\n",
    "lm=linear_model.LinearRegression()\n",
    "lm.fit(X_train,y_train)\n",
    "print(\"Coefficientis:\",lm.coef_)\n",
    "print(\"Intercept is\",lm.intercept_)\n",
    "\n",
    "test_pred = lm.predict(X_train)\n",
    "RMSE = np.sqrt(mean_squared_error(test_pred, y_train ))\n",
    "print(\"TrainData Rmse\",RMSE)\n",
    "\n",
    "### on test data\n",
    "test_pred = lm.predict(x_test)\n",
    "MAE = mean_absolute_error(y_test,test_pred)\n",
    "print(\"R-Square\",r2_score(y_test,test_pred))\n",
    "MSE = mean_squared_error(y_test,test_pred)\n",
    "MedianAE = median_absolute_error(y_test,test_pred)\n",
    "MAPE = np.mean(np.abs((y_test - test_pred) / y_test)) * 100\n",
    "RMSE = np.sqrt(mean_squared_error(y_test, test_pred))\n",
    "print(MAE) \n",
    "print(MSE)\n",
    "print(MAPE) \n",
    "print(RMSE) "
   ]
  },
  {
   "cell_type": "code",
   "execution_count": 83,
   "metadata": {
    "collapsed": false
   },
   "outputs": [
    {
     "name": "stdout",
     "output_type": "stream",
     "text": [
      "Mean Absolute Error is  0.353034433473\n",
      "Root Mean Squared Error  0.623731819012\n",
      "Accuracy of the model is  0.981309784573\n",
      "0.658173967013\n",
      "0.389041382048\n",
      "2.572155929675441\n",
      "0.623731819012\n"
     ]
    }
   ],
   "source": [
    "random_forest = RandomForestRegressor(n_jobs=2)\n",
    "random_forest.fit(X_train, y_train)\n",
    "y_pred=random_forest.predict(x_test)\n",
    "\n",
    "print(\"Mean Absolute Error is \",mean_absolute_error(y_test,y_pred))\n",
    "#print(\"Mean Absolute Percentage Error is \",mean_absolute_percentage_error(Y_train,y_pred))\n",
    "print(\"Root Mean Squared Error \",np.sqrt(mean_squared_error(y_test,y_pred)))\n",
    "print(\"Accuracy of the model is \",r2_score(y_test,y_pred)) \n",
    "\n",
    "MSE = mean_squared_error(y_test,y_pred)\n",
    "MedianAE = median_absolute_error(y_test,y_pred)\n",
    "MAPE = np.mean(np.abs((y_test - y_pred) / y_test)) * 100\n",
    "RMSE = np.sqrt(mean_squared_error(y_test, y_pred))\n",
    "print(MAE)\n",
    "print(MSE)\n",
    "print(MAPE)\n",
    "print(RMSE)"
   ]
  },
  {
   "cell_type": "code",
   "execution_count": null,
   "metadata": {
    "collapsed": true
   },
   "outputs": [],
   "source": [
    "##KNN\n",
    "\n",
    "knn = KNeighborsRegressor(n_neighbors=3)\n",
    "    # Fit the model on the training data.\n",
    "model = knn.fit(X_train,y_train)\n",
    "y_pred=knn.predict(x_test)\n",
    "MSE = mean_squared_error(y_test,y_pred)\n",
    "MedianAE = median_absolute_error(y_test,y_pred)\n",
    "MAPE = np.mean(np.abs((y_test - y_pred) / y_test)) * 100\n",
    "RMSE = np.sqrt(mean_squared_error(y_test, y_pred))\n",
    "print(MAE)\n",
    "print(MSE)\n",
    "print(MAPE)\n",
    "print(RMSE)"
   ]
  },
  {
   "cell_type": "code",
   "execution_count": null,
   "metadata": {
    "collapsed": true
   },
   "outputs": [],
   "source": [
    "#### Neural Network\n",
    "\n",
    "scaler = StandardScaler()\n",
    "scaler.fit(X_train)\n",
    "X_train = scaler.transform(X_train)\n",
    "X_test = scaler.transform(x_test)\n",
    "\n",
    "nn_reg=MLPRegressor(hidden_layer_sizes=(20,10,20))\n",
    "nn_reg.fit(X_train,y_train)\n",
    "predictions = nn_reg.predict(x_test)\n",
    "y_pred=predictions\n",
    "\n",
    "\n",
    "print (\"Neural Network Mean Absolute Error:\",mean_absolute_error(y_test,y_pred)*100)\n",
    "print(\"Neural Network Root Mean Squared Error:\",np.sqrt(mean_squared_error(y_test,y_pred)))\n",
    "print(\"Neural Network R2 Score:\",r2_score(y_test,y_pred))\n"
   ]
  },
  {
   "cell_type": "code",
   "execution_count": 42,
   "metadata": {
    "collapsed": true
   },
   "outputs": [],
   "source": [
    "df2.to_csv('PredictionWithAllData.csv',index=None)"
   ]
  },
  {
   "cell_type": "code",
   "execution_count": null,
   "metadata": {
    "collapsed": true
   },
   "outputs": [],
   "source": []
  }
 ],
 "metadata": {
  "anaconda-cloud": {},
  "kernelspec": {
   "display_name": "Python [conda root]",
   "language": "python",
   "name": "conda-root-py"
  },
  "language_info": {
   "codemirror_mode": {
    "name": "ipython",
    "version": 3
   },
   "file_extension": ".py",
   "mimetype": "text/x-python",
   "name": "python",
   "nbconvert_exporter": "python",
   "pygments_lexer": "ipython3",
   "version": "3.5.2"
  }
 },
 "nbformat": 4,
 "nbformat_minor": 0
}
